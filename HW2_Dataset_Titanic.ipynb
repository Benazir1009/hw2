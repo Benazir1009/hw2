{
 "cells": [
  {
   "cell_type": "code",
   "id": "initial_id",
   "metadata": {
    "collapsed": true,
    "ExecuteTime": {
     "end_time": "2025-05-16T04:42:33.942056Z",
     "start_time": "2025-05-16T04:42:33.934980Z"
    }
   },
   "source": "import pandas as pd",
   "outputs": [],
   "execution_count": 22
  },
  {
   "metadata": {
    "ExecuteTime": {
     "end_time": "2025-05-16T04:42:34.030165Z",
     "start_time": "2025-05-16T04:42:33.987749Z"
    }
   },
   "cell_type": "code",
   "source": [
    "df = pd.read_csv(\"Titanic-Dataset.csv\")\n",
    "print(df)"
   ],
   "id": "96129cbf703ce946",
   "outputs": [
    {
     "name": "stdout",
     "output_type": "stream",
     "text": [
      "     PassengerId  Survived  Pclass  \\\n",
      "0              1         0       3   \n",
      "1              2         1       1   \n",
      "2              3         1       3   \n",
      "3              4         1       1   \n",
      "4              5         0       3   \n",
      "..           ...       ...     ...   \n",
      "886          887         0       2   \n",
      "887          888         1       1   \n",
      "888          889         0       3   \n",
      "889          890         1       1   \n",
      "890          891         0       3   \n",
      "\n",
      "                                                  Name     Sex   Age  SibSp  \\\n",
      "0                              Braund, Mr. Owen Harris    male  22.0      1   \n",
      "1    Cumings, Mrs. John Bradley (Florence Briggs Th...  female  38.0      1   \n",
      "2                               Heikkinen, Miss. Laina  female  26.0      0   \n",
      "3         Futrelle, Mrs. Jacques Heath (Lily May Peel)  female  35.0      1   \n",
      "4                             Allen, Mr. William Henry    male  35.0      0   \n",
      "..                                                 ...     ...   ...    ...   \n",
      "886                              Montvila, Rev. Juozas    male  27.0      0   \n",
      "887                       Graham, Miss. Margaret Edith  female  19.0      0   \n",
      "888           Johnston, Miss. Catherine Helen \"Carrie\"  female   NaN      1   \n",
      "889                              Behr, Mr. Karl Howell    male  26.0      0   \n",
      "890                                Dooley, Mr. Patrick    male  32.0      0   \n",
      "\n",
      "     Parch            Ticket     Fare Cabin Embarked  \n",
      "0        0         A/5 21171   7.2500   NaN        S  \n",
      "1        0          PC 17599  71.2833   C85        C  \n",
      "2        0  STON/O2. 3101282   7.9250   NaN        S  \n",
      "3        0            113803  53.1000  C123        S  \n",
      "4        0            373450   8.0500   NaN        S  \n",
      "..     ...               ...      ...   ...      ...  \n",
      "886      0            211536  13.0000   NaN        S  \n",
      "887      0            112053  30.0000   B42        S  \n",
      "888      2        W./C. 6607  23.4500   NaN        S  \n",
      "889      0            111369  30.0000  C148        C  \n",
      "890      0            370376   7.7500   NaN        Q  \n",
      "\n",
      "[891 rows x 12 columns]\n"
     ]
    }
   ],
   "execution_count": 23
  },
  {
   "metadata": {
    "ExecuteTime": {
     "end_time": "2025-05-16T04:42:34.081879Z",
     "start_time": "2025-05-16T04:42:34.061153Z"
    }
   },
   "cell_type": "code",
   "source": [
    "bins = [0, 2, 12, 19, 35, 59, 100]\n",
    "labels = [\"Infants\", \"Children\", \"Teenagers\", \"Young Adults\", \"Middle-aged\", \"Elderly\"]\n",
    "df[\"AgeGroup\"] = pd.cut(df[\"Age\"], bins=bins, labels=labels, right=True)\n",
    "df[[\"Age\", \"AgeGroup\"]].head()\n"
   ],
   "id": "778fcad99fb677f4",
   "outputs": [
    {
     "data": {
      "text/plain": [
       "    Age      AgeGroup\n",
       "0  22.0  Young Adults\n",
       "1  38.0   Middle-aged\n",
       "2  26.0  Young Adults\n",
       "3  35.0  Young Adults\n",
       "4  35.0  Young Adults"
      ],
      "text/html": [
       "<div>\n",
       "<style scoped>\n",
       "    .dataframe tbody tr th:only-of-type {\n",
       "        vertical-align: middle;\n",
       "    }\n",
       "\n",
       "    .dataframe tbody tr th {\n",
       "        vertical-align: top;\n",
       "    }\n",
       "\n",
       "    .dataframe thead th {\n",
       "        text-align: right;\n",
       "    }\n",
       "</style>\n",
       "<table border=\"1\" class=\"dataframe\">\n",
       "  <thead>\n",
       "    <tr style=\"text-align: right;\">\n",
       "      <th></th>\n",
       "      <th>Age</th>\n",
       "      <th>AgeGroup</th>\n",
       "    </tr>\n",
       "  </thead>\n",
       "  <tbody>\n",
       "    <tr>\n",
       "      <th>0</th>\n",
       "      <td>22.0</td>\n",
       "      <td>Young Adults</td>\n",
       "    </tr>\n",
       "    <tr>\n",
       "      <th>1</th>\n",
       "      <td>38.0</td>\n",
       "      <td>Middle-aged</td>\n",
       "    </tr>\n",
       "    <tr>\n",
       "      <th>2</th>\n",
       "      <td>26.0</td>\n",
       "      <td>Young Adults</td>\n",
       "    </tr>\n",
       "    <tr>\n",
       "      <th>3</th>\n",
       "      <td>35.0</td>\n",
       "      <td>Young Adults</td>\n",
       "    </tr>\n",
       "    <tr>\n",
       "      <th>4</th>\n",
       "      <td>35.0</td>\n",
       "      <td>Young Adults</td>\n",
       "    </tr>\n",
       "  </tbody>\n",
       "</table>\n",
       "</div>"
      ]
     },
     "execution_count": 24,
     "metadata": {},
     "output_type": "execute_result"
    }
   ],
   "execution_count": 24
  },
  {
   "metadata": {
    "ExecuteTime": {
     "end_time": "2025-05-16T04:42:34.215304Z",
     "start_time": "2025-05-16T04:42:34.199007Z"
    }
   },
   "cell_type": "code",
   "source": "df[\"AgeGroup\"].value_counts()",
   "id": "8b0a91a3e29dfa0b",
   "outputs": [
    {
     "data": {
      "text/plain": [
       "AgeGroup\n",
       "Young Adults    333\n",
       "Middle-aged     191\n",
       "Teenagers        95\n",
       "Children         45\n",
       "Elderly          26\n",
       "Infants          24\n",
       "Name: count, dtype: int64"
      ]
     },
     "execution_count": 25,
     "metadata": {},
     "output_type": "execute_result"
    }
   ],
   "execution_count": 25
  },
  {
   "metadata": {
    "ExecuteTime": {
     "end_time": "2025-05-16T04:42:34.467626Z",
     "start_time": "2025-05-16T04:42:34.454226Z"
    }
   },
   "cell_type": "code",
   "source": "print(df.groupby(['AgeGroup', 'Pclass']).size())",
   "id": "7e5b7c763ec6ce08",
   "outputs": [
    {
     "name": "stdout",
     "output_type": "stream",
     "text": [
      "AgeGroup      Pclass\n",
      "Infants       1           2\n",
      "              2           7\n",
      "              3          15\n",
      "Children      1           2\n",
      "              2          10\n",
      "              3          33\n",
      "Teenagers     1          17\n",
      "              2          18\n",
      "              3          60\n",
      "Young Adults  1          61\n",
      "              2          88\n",
      "              3         184\n",
      "Middle-aged   1          87\n",
      "              2          46\n",
      "              3          58\n",
      "Elderly       1          17\n",
      "              2           4\n",
      "              3           5\n",
      "dtype: int64\n"
     ]
    },
    {
     "name": "stderr",
     "output_type": "stream",
     "text": [
      "C:\\Users\\user\\AppData\\Local\\Temp\\ipykernel_9184\\832004701.py:1: FutureWarning: The default of observed=False is deprecated and will be changed to True in a future version of pandas. Pass observed=False to retain current behavior or observed=True to adopt the future default and silence this warning.\n",
      "  print(df.groupby(['AgeGroup', 'Pclass']).size())\n"
     ]
    }
   ],
   "execution_count": 26
  },
  {
   "metadata": {
    "ExecuteTime": {
     "end_time": "2025-05-16T04:44:22.830562Z",
     "start_time": "2025-05-16T04:44:22.818069Z"
    }
   },
   "cell_type": "code",
   "source": "print(df.groupby(\"Pclass\").size())",
   "id": "3e658797253cb2",
   "outputs": [
    {
     "name": "stdout",
     "output_type": "stream",
     "text": [
      "Pclass\n",
      "1    216\n",
      "2    184\n",
      "3    491\n",
      "dtype: int64\n"
     ]
    }
   ],
   "execution_count": 33
  },
  {
   "metadata": {
    "ExecuteTime": {
     "end_time": "2025-05-16T04:44:19.438430Z",
     "start_time": "2025-05-16T04:44:19.427971Z"
    }
   },
   "cell_type": "code",
   "source": "print(df.groupby(\"AgeGroup\").size())",
   "id": "a0b8a323a102a115",
   "outputs": [
    {
     "name": "stdout",
     "output_type": "stream",
     "text": [
      "AgeGroup\n",
      "Infants          24\n",
      "Children         45\n",
      "Teenagers        95\n",
      "Young Adults    333\n",
      "Middle-aged     191\n",
      "Elderly          26\n",
      "dtype: int64\n"
     ]
    },
    {
     "name": "stderr",
     "output_type": "stream",
     "text": [
      "C:\\Users\\user\\AppData\\Local\\Temp\\ipykernel_9184\\2255584479.py:1: FutureWarning: The default of observed=False is deprecated and will be changed to True in a future version of pandas. Pass observed=False to retain current behavior or observed=True to adopt the future default and silence this warning.\n",
      "  print(df.groupby(\"AgeGroup\").size())\n"
     ]
    }
   ],
   "execution_count": 32
  },
  {
   "metadata": {
    "ExecuteTime": {
     "end_time": "2025-05-16T04:44:17.188914Z",
     "start_time": "2025-05-16T04:44:17.174796Z"
    }
   },
   "cell_type": "code",
   "source": [
    "from scipy.stats import chisquare\n",
    "chisquare([2, 2, 17, 61, 87, 17, 7, 10, 18, 88, 46, 4, 15, 33, 60, 184, 58, 5], f_exp= [6.25, 11.72, 24.7, 86.74, 49.7, 6.8, 5.8, 10.9, 23, 80.7, 46.27, 6.42, 11.9, 22.4, 47.2, 165.6, 95, 12.9])\n",
    "# print(\"Chi-square statistic:\", chi2_stat)\n",
    "# print(\"p-value:\", p_value)\n",
    "# if p_value < 0.05:\n",
    "#     print(\"Есть статистически значимая разница между наблюдаемыми и ожидаемыми частотами.\")\n",
    "# else:\n",
    "#     print(\"Нет статистически значимой разницы.\")"
   ],
   "id": "a248264227ab158f",
   "outputs": [
    {
     "data": {
      "text/plain": [
       "Power_divergenceResult(statistic=np.float64(97.85523596913951), pvalue=np.float64(2.217870029131764e-13))"
      ]
     },
     "execution_count": 31,
     "metadata": {},
     "output_type": "execute_result"
    }
   ],
   "execution_count": 31
  }
 ],
 "metadata": {
  "kernelspec": {
   "display_name": "Python 3",
   "language": "python",
   "name": "python3"
  },
  "language_info": {
   "codemirror_mode": {
    "name": "ipython",
    "version": 2
   },
   "file_extension": ".py",
   "mimetype": "text/x-python",
   "name": "python",
   "nbconvert_exporter": "python",
   "pygments_lexer": "ipython2",
   "version": "2.7.6"
  }
 },
 "nbformat": 4,
 "nbformat_minor": 5
}
